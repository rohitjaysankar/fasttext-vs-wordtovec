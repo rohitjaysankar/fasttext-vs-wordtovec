{
 "cells": [
  {
   "cell_type": "code",
   "execution_count": 78,
   "metadata": {},
   "outputs": [],
   "source": [
    "from gensim.models import FastText\n"
   ]
  },
  {
   "cell_type": "code",
   "execution_count": 79,
   "metadata": {},
   "outputs": [],
   "source": [
    "from gensim.models.word2vec import Text8Corpus"
   ]
  },
  {
   "cell_type": "code",
   "execution_count": 80,
   "metadata": {},
   "outputs": [],
   "source": [
    "from nltk.corpus import brown"
   ]
  },
  {
   "cell_type": "code",
   "execution_count": 81,
   "metadata": {},
   "outputs": [],
   "source": [
    "from gensim.models import Word2Vec"
   ]
  },
  {
   "cell_type": "code",
   "execution_count": 82,
   "metadata": {},
   "outputs": [
    {
     "name": "stdout",
     "output_type": "stream",
     "text": [
      "[nltk_data] Downloading package brown to C:\\Users\\Rohit\n",
      "[nltk_data]     Jaysankar\\AppData\\Roaming\\nltk_data...\n",
      "[nltk_data]   Package brown is already up-to-date!\n"
     ]
    },
    {
     "data": {
      "text/plain": [
       "True"
      ]
     },
     "execution_count": 82,
     "metadata": {},
     "output_type": "execute_result"
    }
   ],
   "source": [
    "import nltk\n",
    "nltk.download('brown')"
   ]
  },
  {
   "cell_type": "code",
   "execution_count": 83,
   "metadata": {},
   "outputs": [],
   "source": [
    "w2v_model = Word2Vec(brown.sents(), size=128, window=5, min_count=3, workers=4)"
   ]
  },
  {
   "cell_type": "code",
   "execution_count": 84,
   "metadata": {},
   "outputs": [
    {
     "name": "stdout",
     "output_type": "stream",
     "text": [
      "[ 1.44589797e-01 -1.20312251e-01  2.13098958e-01 -7.41076171e-02\n",
      "  9.09493566e-02 -1.31338999e-01  1.73376530e-01  1.43237472e-01\n",
      "  2.62383878e-01  2.30620410e-02 -2.31410540e-03 -4.01406176e-02\n",
      " -3.00594848e-02 -4.28758785e-02 -2.42398605e-01  9.43994150e-03\n",
      " -2.18208224e-01  5.06263562e-02 -1.28717259e-01  3.55280221e-01\n",
      " -4.17845130e-01 -5.54243103e-02 -5.26160076e-02  1.87038466e-01\n",
      "  7.02254623e-02 -1.06980719e-01 -1.14301920e-01 -1.88048109e-01\n",
      "  1.50577083e-01 -2.29838323e-02  8.74083862e-02  2.43922204e-01\n",
      "  8.38813707e-02 -2.37078890e-01  1.68738797e-01 -1.40886173e-01\n",
      " -3.96925472e-02 -1.45906746e-01  1.05995059e-01  4.24391888e-02\n",
      " -3.40843282e-04  6.68153539e-02  1.37685612e-02 -1.67660676e-02\n",
      "  6.85210973e-02 -5.39951809e-02  6.45264611e-02  3.44622619e-02\n",
      "  2.15705425e-01 -1.28884315e-01  1.18061140e-01 -1.06827356e-01\n",
      " -9.52830091e-02 -2.53191203e-01  3.46715525e-02 -4.60874699e-02\n",
      " -1.92121565e-01 -6.87771430e-03  9.32479501e-02 -3.95174176e-02\n",
      " -1.65839568e-01 -4.20601785e-01  2.07770281e-02  5.22897467e-02\n",
      " -6.61492124e-02 -2.60723591e-01  1.51993796e-01 -7.57138878e-02\n",
      "  9.84968152e-03 -5.19420840e-02  3.17532063e-01 -2.25053266e-01\n",
      " -1.45507321e-01  7.09021166e-02  1.40053332e-01  2.66178787e-01\n",
      "  8.49765688e-02 -9.00855288e-02 -1.29642949e-01  2.56117493e-01\n",
      "  1.04391359e-01 -5.86652234e-02  1.02547407e-01 -2.40012184e-01\n",
      " -1.33783713e-01 -7.50590190e-02  1.97858766e-01  1.59626290e-01\n",
      "  8.07874277e-02 -1.36740968e-01 -1.54020889e-02 -2.51407828e-02\n",
      "  1.15937039e-01 -1.25063397e-03  1.02317072e-01  3.44162956e-02\n",
      " -8.81585181e-02 -6.81011006e-02 -2.17117459e-01 -1.36231640e-02\n",
      "  1.49156764e-01 -1.93421409e-01  1.53714707e-02 -1.25831068e-01\n",
      "  2.93894351e-01  1.23835340e-01 -7.08383173e-02  1.96789235e-01\n",
      " -1.18342333e-01  1.44505858e-01 -2.93763448e-03 -1.12546973e-01\n",
      "  3.55524942e-02  2.28541657e-01  2.49530841e-02  1.08824879e-01\n",
      "  2.77955562e-01 -4.56023633e-01 -1.15908839e-01  1.41369477e-01\n",
      " -2.85287112e-01 -4.69866954e-02  8.93787071e-02 -2.53794086e-03\n",
      " -1.82006836e-01  5.70919970e-03 -3.71063709e-01  1.78832710e-02] [ 0.17864658 -0.08350142  0.25241366 -0.05813463  0.14845155 -0.06879881\n",
      "  0.17835334  0.20329446  0.31347942 -0.04754784  0.04267728 -0.07728206\n",
      " -0.14528713 -0.0735171  -0.33497873  0.03249869 -0.32803917  0.0572387\n",
      " -0.24299799  0.44808412 -0.601026   -0.03581189 -0.06341548  0.19098659\n",
      "  0.10604297 -0.03184173 -0.09875306 -0.27437723  0.19973022 -0.01079598\n",
      " -0.01994523  0.38297284  0.1581747  -0.42592248  0.16282088 -0.20398016\n",
      " -0.09984933 -0.05590087  0.13493055 -0.04684894 -0.05308655  0.09236722\n",
      "  0.09720477 -0.07480938  0.10225983 -0.13192883  0.06261206  0.13816802\n",
      "  0.29884937 -0.14889592  0.19641018 -0.13324313 -0.17395757 -0.2933235\n",
      " -0.0514365  -0.08660673 -0.23324339 -0.08395593  0.03289285 -0.13068886\n",
      " -0.2551698  -0.59423727  0.06641392  0.10037322 -0.07561143 -0.31002313\n",
      "  0.27208078 -0.1873692   0.04368787 -0.00331536  0.52695733 -0.4120045\n",
      " -0.22321834  0.13101062  0.3620664   0.40043202  0.07932587 -0.10208806\n",
      " -0.24648866  0.38741007  0.28122136 -0.05679614  0.09276803 -0.40097582\n",
      " -0.15693225 -0.17582308  0.2117077   0.13126937  0.11805712 -0.23728828\n",
      " -0.08358033 -0.0933011   0.13438004 -0.0725176   0.07154687  0.08437972\n",
      " -0.10209626 -0.21028721 -0.24083805 -0.01240988  0.13386469 -0.04382732\n",
      "  0.15405452 -0.15961409  0.4333771   0.01886663 -0.00351672  0.4000513\n",
      " -0.18249366  0.2627478   0.11724394 -0.05867316  0.00488763  0.3065672\n",
      " -0.05966852  0.06261489  0.38988554 -0.6811477  -0.14365591  0.28296143\n",
      " -0.44341588 -0.08423181  0.08745534  0.05536459 -0.2990776   0.03479138\n",
      " -0.45252627  0.17933464]\n"
     ]
    }
   ],
   "source": [
    "print(w2v_model.wv['Italy'], w2v_model.wv['France'])"
   ]
  },
  {
   "cell_type": "code",
   "execution_count": 85,
   "metadata": {},
   "outputs": [
    {
     "name": "stdout",
     "output_type": "stream",
     "text": [
      "[('Italy', 0.9756526947021484), ('Rome', 0.963793158531189), ('France', 0.9624303579330444), ('Eugene', 0.9619095325469971), ('headquarters', 0.9616706371307373), ('London', 0.9604809284210205), ('dancing', 0.9593377113342285), ('breakfast', 0.958321750164032), ('Harvard', 0.9574970602989197), ('Chicago', 0.9562244415283203)]\n"
     ]
    },
    {
     "name": "stderr",
     "output_type": "stream",
     "text": [
      "C:\\Users\\Rohit Jaysankar\\Anaconda3\\lib\\site-packages\\gensim\\matutils.py:737: FutureWarning: Conversion of the second argument of issubdtype from `int` to `np.signedinteger` is deprecated. In future, it will be treated as `np.int32 == np.dtype(int).type`.\n",
      "  if np.issubdtype(vec.dtype, np.int):\n"
     ]
    }
   ],
   "source": [
    "print(w2v_model.wv.most_similar('Paris'))"
   ]
  },
  {
   "cell_type": "code",
   "execution_count": 86,
   "metadata": {},
   "outputs": [
    {
     "name": "stdout",
     "output_type": "stream",
     "text": [
      "[('extracting', 0.9592577815055847), ('united', 0.9553931355476379), ('duties', 0.9524385333061218), ('savage', 0.9508976340293884), ('stem', 0.9478844404220581), ('measuring', 0.9432634115219116), ('successors', 0.9428225755691528), ('patronage', 0.9426742792129517), ('trigger', 0.9425696134567261), ('component', 0.941728949546814)]\n",
      "[('earth', 0.9442875385284424), ('reputed', 0.9436981678009033), ('beach', 0.9425057172775269), ('sink', 0.9372844696044922), ('grounds', 0.9331566691398621), ('transformed', 0.9324736595153809), ('Church', 0.9322054386138916), ('Nation', 0.9302163124084473), ('effected', 0.9299797415733337), ('planks', 0.9295602440834045)]\n"
     ]
    },
    {
     "name": "stderr",
     "output_type": "stream",
     "text": [
      "C:\\Users\\Rohit Jaysankar\\Anaconda3\\lib\\site-packages\\gensim\\matutils.py:737: FutureWarning: Conversion of the second argument of issubdtype from `int` to `np.signedinteger` is deprecated. In future, it will be treated as `np.int32 == np.dtype(int).type`.\n",
      "  if np.issubdtype(vec.dtype, np.int):\n"
     ]
    }
   ],
   "source": [
    "print(w2v_model.wv.most_similar(positive=['woman', 'king'], negative=['man']))\n",
    "print(w2v_model.wv.most_similar(positive=[\"Rome\", \"France\"], negative=[\"Italy\"]))"
   ]
  },
  {
   "cell_type": "code",
   "execution_count": 87,
   "metadata": {},
   "outputs": [
    {
     "name": "stdout",
     "output_type": "stream",
     "text": [
      "[('earth', 0.9442875385284424), ('reputed', 0.9436981678009033), ('beach', 0.9425057172775269), ('sink', 0.9372844696044922), ('grounds', 0.9331566691398621), ('transformed', 0.9324736595153809), ('Church', 0.9322054386138916), ('Nation', 0.9302163124084473), ('effected', 0.9299797415733337), ('planks', 0.9295602440834045)]\n"
     ]
    },
    {
     "name": "stderr",
     "output_type": "stream",
     "text": [
      "C:\\Users\\Rohit Jaysankar\\Anaconda3\\lib\\site-packages\\gensim\\matutils.py:737: FutureWarning: Conversion of the second argument of issubdtype from `int` to `np.signedinteger` is deprecated. In future, it will be treated as `np.int32 == np.dtype(int).type`.\n",
      "  if np.issubdtype(vec.dtype, np.int):\n"
     ]
    }
   ],
   "source": [
    "print(w2v_model.wv.most_similar(positive=[\"Rome\", \"France\"], negative=[\"Italy\"]))"
   ]
  },
  {
   "cell_type": "code",
   "execution_count": 88,
   "metadata": {},
   "outputs": [],
   "source": [
    "from gensim.models.word2vec import Text8Corpus"
   ]
  },
  {
   "cell_type": "code",
   "execution_count": 89,
   "metadata": {},
   "outputs": [],
   "source": [
    "w2v_model2 = Word2Vec(Text8Corpus('~/Downloads/text8'), size=100, window=5, min_count=150, workers=4)"
   ]
  },
  {
   "cell_type": "code",
   "execution_count": 90,
   "metadata": {},
   "outputs": [
    {
     "name": "stdout",
     "output_type": "stream",
     "text": [
      "[('venice', 0.770256519317627), ('leipzig', 0.7291265726089478), ('florence', 0.714862585067749), ('vienna', 0.7124632596969604), ('naples', 0.6902337074279785), ('sur', 0.6731769442558289), ('milan', 0.6718237996101379), ('munich', 0.6604958176612854), ('amsterdam', 0.6538655757904053), ('della', 0.6515815258026123)]\n"
     ]
    },
    {
     "name": "stderr",
     "output_type": "stream",
     "text": [
      "C:\\Users\\Rohit Jaysankar\\Anaconda3\\lib\\site-packages\\gensim\\matutils.py:737: FutureWarning: Conversion of the second argument of issubdtype from `int` to `np.signedinteger` is deprecated. In future, it will be treated as `np.int32 == np.dtype(int).type`.\n",
      "  if np.issubdtype(vec.dtype, np.int):\n"
     ]
    }
   ],
   "source": [
    "print(w2v_model2.wv.most_similar('paris'))"
   ]
  },
  {
   "cell_type": "code",
   "execution_count": 91,
   "metadata": {},
   "outputs": [],
   "source": [
    "from gensim.models import FastText"
   ]
  },
  {
   "cell_type": "code",
   "execution_count": 92,
   "metadata": {},
   "outputs": [],
   "source": [
    "ft_model = FastText(Text8Corpus('~/Downloads/text8'), size=100, window=5, min_count=150, workers=4, min_n=3, max_n=10)"
   ]
  },
  {
   "cell_type": "code",
   "execution_count": 93,
   "metadata": {},
   "outputs": [
    {
     "name": "stdout",
     "output_type": "stream",
     "text": [
      "[('vienna', 0.7711690664291382), ('brussels', 0.7096816897392273), ('florence', 0.7095658183097839), ('venice', 0.707185685634613), ('leipzig', 0.7048746943473816), ('amsterdam', 0.6474100351333618), ('france', 0.6407598853111267), ('francesco', 0.6373055577278137), ('berlin', 0.6284818053245544), ('parish', 0.6222929358482361)]\n"
     ]
    },
    {
     "name": "stderr",
     "output_type": "stream",
     "text": [
      "C:\\Users\\Rohit Jaysankar\\Anaconda3\\lib\\site-packages\\gensim\\matutils.py:737: FutureWarning: Conversion of the second argument of issubdtype from `int` to `np.signedinteger` is deprecated. In future, it will be treated as `np.int32 == np.dtype(int).type`.\n",
      "  if np.issubdtype(vec.dtype, np.int):\n"
     ]
    }
   ],
   "source": [
    "print(ft_model.wv.most_similar('paris'))"
   ]
  },
  {
   "cell_type": "code",
   "execution_count": 94,
   "metadata": {},
   "outputs": [
    {
     "name": "stdout",
     "output_type": "stream",
     "text": [
      "[('prince', 0.7048135995864868), ('queen', 0.700861930847168), ('princess', 0.6972578763961792)]\n"
     ]
    },
    {
     "name": "stderr",
     "output_type": "stream",
     "text": [
      "C:\\Users\\Rohit Jaysankar\\Anaconda3\\lib\\site-packages\\ipykernel_launcher.py:1: DeprecationWarning: Call to deprecated `most_similar` (Method will be removed in 4.0.0, use self.wv.most_similar() instead).\n",
      "  \"\"\"Entry point for launching an IPython kernel.\n",
      "C:\\Users\\Rohit Jaysankar\\Anaconda3\\lib\\site-packages\\gensim\\matutils.py:737: FutureWarning: Conversion of the second argument of issubdtype from `int` to `np.signedinteger` is deprecated. In future, it will be treated as `np.int32 == np.dtype(int).type`.\n",
      "  if np.issubdtype(vec.dtype, np.int):\n"
     ]
    }
   ],
   "source": [
    "print(ft_model.most_similar(['woman', 'king'], ['man'], topn=3))"
   ]
  },
  {
   "cell_type": "code",
   "execution_count": 95,
   "metadata": {},
   "outputs": [
    {
     "name": "stdout",
     "output_type": "stream",
     "text": [
      "[('mother', 0.8103232383728027), ('grandfather', 0.7672222852706909), ('wife', 0.7435417175292969)]\n"
     ]
    },
    {
     "name": "stderr",
     "output_type": "stream",
     "text": [
      "C:\\Users\\Rohit Jaysankar\\Anaconda3\\lib\\site-packages\\ipykernel_launcher.py:1: DeprecationWarning: Call to deprecated `most_similar` (Method will be removed in 4.0.0, use self.wv.most_similar() instead).\n",
      "  \"\"\"Entry point for launching an IPython kernel.\n",
      "C:\\Users\\Rohit Jaysankar\\Anaconda3\\lib\\site-packages\\gensim\\matutils.py:737: FutureWarning: Conversion of the second argument of issubdtype from `int` to `np.signedinteger` is deprecated. In future, it will be treated as `np.int32 == np.dtype(int).type`.\n",
      "  if np.issubdtype(vec.dtype, np.int):\n"
     ]
    }
   ],
   "source": [
    "print(ft_model.most_similar(['girl', 'father'], ['boy'], topn=3))"
   ]
  },
  {
   "cell_type": "code",
   "execution_count": 96,
   "metadata": {},
   "outputs": [
    {
     "name": "stdout",
     "output_type": "stream",
     "text": [
      "[('vienna', 0.7243122458457947), ('venice', 0.6286659836769104), ('florence', 0.619512140750885)]\n"
     ]
    },
    {
     "name": "stderr",
     "output_type": "stream",
     "text": [
      "C:\\Users\\Rohit Jaysankar\\Anaconda3\\lib\\site-packages\\ipykernel_launcher.py:1: DeprecationWarning: Call to deprecated `most_similar` (Method will be removed in 4.0.0, use self.wv.most_similar() instead).\n",
      "  \"\"\"Entry point for launching an IPython kernel.\n",
      "C:\\Users\\Rohit Jaysankar\\Anaconda3\\lib\\site-packages\\gensim\\matutils.py:737: FutureWarning: Conversion of the second argument of issubdtype from `int` to `np.signedinteger` is deprecated. In future, it will be treated as `np.int32 == np.dtype(int).type`.\n",
      "  if np.issubdtype(vec.dtype, np.int):\n"
     ]
    }
   ],
   "source": [
    "print(ft_model.most_similar(['paris', 'italy'], ['france'], topn=3))"
   ]
  },
  {
   "cell_type": "code",
   "execution_count": 97,
   "metadata": {},
   "outputs": [
    {
     "name": "stdout",
     "output_type": "stream",
     "text": [
      "[ 1.2915794   0.295923   -0.3173926  -0.3155376   1.6222901   0.8165862\n",
      " -0.04027764 -0.9392943  -1.1417685   0.5309824  -0.8074178  -0.37688413\n",
      " -0.11065716 -1.7871442   0.03209535 -1.266751    0.83708644 -1.1472917\n",
      " -0.28926823 -0.77427465  0.88712156 -1.3264238   0.62585896 -0.0040729\n",
      "  0.87126786 -0.9421897   0.53510606 -0.48286662  0.11587083 -0.5996587\n",
      "  0.3858362   0.8473674  -1.2063246   0.73006475  1.0030081  -0.5016495\n",
      " -0.49533895 -0.90144366  1.1599295  -0.44979534 -0.5612998   0.5190773\n",
      " -0.54890007  0.758044    1.0823245   0.09901778 -1.1835362  -0.8751545\n",
      "  0.47508037 -0.21849854 -0.62920314  0.7870824  -0.06935222  0.7233718\n",
      "  1.1862991   0.75512946  0.48433006  0.74339926 -1.6520373   1.0729135\n",
      "  0.41264066 -0.60359776  0.93076235 -0.22478825 -0.8559275   0.7592832\n",
      "  0.36606506 -0.4057396  -0.23972994 -0.22511527 -0.8696312   0.48685482\n",
      "  0.8378445  -1.8574357   0.8478416  -0.6730821   0.45395678 -0.81362265\n",
      " -0.0989962  -0.46208996  0.21663319  0.3373159  -0.17982706  1.0985063\n",
      "  0.00456955  0.25955802  0.5615241   0.15917505 -0.6878726   0.8882437\n",
      "  0.7627445   1.0269008  -0.27061436 -1.060392    0.20911995 -0.17231554\n",
      "  0.09733802  0.20220348  0.01169615  0.02635155]\n",
      "[('venice', 0.7987923622131348), ('francesco', 0.748650074005127), ('hamburg', 0.734290361404419)]\n",
      "[('what', 0.8683704733848572), ('whatever', 0.7440770268440247), ('why', 0.6537948846817017)]\n"
     ]
    },
    {
     "name": "stderr",
     "output_type": "stream",
     "text": [
      "C:\\Users\\Rohit Jaysankar\\Anaconda3\\lib\\site-packages\\ipykernel_launcher.py:6: DeprecationWarning: Call to deprecated `most_similar` (Method will be removed in 4.0.0, use self.wv.most_similar() instead).\n",
      "  \n",
      "C:\\Users\\Rohit Jaysankar\\Anaconda3\\lib\\site-packages\\gensim\\matutils.py:737: FutureWarning: Conversion of the second argument of issubdtype from `int` to `np.signedinteger` is deprecated. In future, it will be treated as `np.int32 == np.dtype(int).type`.\n",
      "  if np.issubdtype(vec.dtype, np.int):\n",
      "C:\\Users\\Rohit Jaysankar\\Anaconda3\\lib\\site-packages\\ipykernel_launcher.py:10: DeprecationWarning: Call to deprecated `most_similar` (Method will be removed in 4.0.0, use self.wv.most_similar() instead).\n",
      "  # Remove the CWD from sys.path while we load stuff.\n"
     ]
    }
   ],
   "source": [
    "\n",
    "print(ft_model.wv['veniciaaaaaa'])\n",
    "\n",
    " \n",
    "\n",
    "print(ft_model.most_similar('veniciaaaaaa', topn=3))\n",
    "\n",
    " \n",
    "\n",
    "print(ft_model.most_similar('whaaaa', topn=3))\n",
    "\n",
    " "
   ]
  },
  {
   "cell_type": "code",
   "execution_count": null,
   "metadata": {},
   "outputs": [],
   "source": []
  }
 ],
 "metadata": {
  "kernelspec": {
   "display_name": "Python 3",
   "language": "python",
   "name": "python3"
  },
  "language_info": {
   "codemirror_mode": {
    "name": "ipython",
    "version": 3
   },
   "file_extension": ".py",
   "mimetype": "text/x-python",
   "name": "python",
   "nbconvert_exporter": "python",
   "pygments_lexer": "ipython3",
   "version": "3.6.5"
  }
 },
 "nbformat": 4,
 "nbformat_minor": 2
}
